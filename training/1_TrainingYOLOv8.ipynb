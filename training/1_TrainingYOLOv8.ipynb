version https://git-lfs.github.com/spec/v1
oid sha256:6691818f56525aec487626fc3e2c1e640bfd169060dcb8431b8c4a471e55415e
size 3210
